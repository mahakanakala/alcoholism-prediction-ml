{
 "cells": [
  {
   "cell_type": "code",
   "execution_count": null,
   "metadata": {},
   "outputs": [],
   "source": [
    "import pandas as pd\n",
    "import numpy as np\n",
    "import tensorflow as tf\n",
    "from tensorflow import keras\n",
    "from keras import Model\n",
    "from keras.layers import Input, Dense, Bidirectional, LSTM"
   ]
  },
  {
   "cell_type": "code",
   "execution_count": null,
   "metadata": {},
   "outputs": [],
   "source": [
    "df = pd.read_excel('./data/3D_Data_Array_Processed.xlsx')"
   ]
  },
  {
   "cell_type": "markdown",
   "metadata": {},
   "source": [
    "## Make 3-d numpy array\n",
    "\n",
    "Example of Day 1 Data with mouse 1 (Alcohol, food, water, and body weight) with 3 time steps:\n",
    "\n",
    "\n",
    "| Mouse Number | Time Step 1 | Time Step 2 | Time Step 3 | Features |\n",
    "|--------------:|------------:|------------:|------------:|---------:|\n",
    "| 1             | [0.3298, 0.3136, 0.3821, 0.3125\t] | [0.3293, 0.316, 0.382, 0.3205] |  [0.3498, 0.318, 0.4549, 0.376]    | 4          |\n",
    "\n",
    "\n",
    "Expected numpy array output: \n",
    "\n",
    "### Mouse #1:\n",
    "Time Step 1: [0.3298, 0.3136, 0.3821, 0.3125]\n",
    "ime Step 2: [0.3293, 0.316, 0.382, 0.3205]\n",
    "Time Step 3: [0.3498, 0.318, 0.4549, 0.376]"
   ]
  },
  {
   "cell_type": "code",
   "execution_count": null,
   "metadata": {},
   "outputs": [],
   "source": [
    "array = df.to_numpy()\n",
    "\n",
    "print(array)"
   ]
  },
  {
   "cell_type": "code",
   "execution_count": null,
   "metadata": {},
   "outputs": [],
   "source": []
  }
 ],
 "metadata": {
  "kernelspec": {
   "display_name": "Python 3.11.1 ('.venv': venv)",
   "language": "python",
   "name": "python3"
  },
  "language_info": {
   "codemirror_mode": {
    "name": "ipython",
    "version": 3
   },
   "file_extension": ".py",
   "mimetype": "text/x-python",
   "name": "python",
   "nbconvert_exporter": "python",
   "pygments_lexer": "ipython3",
   "version": "3.11.1"
  },
  "orig_nbformat": 4,
  "vscode": {
   "interpreter": {
    "hash": "5111a176fb4dc9c5069ec7dbeba33d4e5743ff4c95e2aa2142eaac380c460730"
   }
  }
 },
 "nbformat": 4,
 "nbformat_minor": 2
}
